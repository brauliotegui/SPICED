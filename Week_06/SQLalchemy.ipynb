{
 "cells": [
  {
   "cell_type": "markdown",
   "metadata": {},
   "source": [
    "# PostGres from Python"
   ]
  },
  {
   "cell_type": "markdown",
   "metadata": {},
   "source": [
    "### Install packages "
   ]
  },
  {
   "cell_type": "code",
   "execution_count": null,
   "metadata": {},
   "outputs": [],
   "source": [
    "#!pip install SQLAlchemy"
   ]
  },
  {
   "cell_type": "markdown",
   "metadata": {},
   "source": [
    "Might also need to install these dependencies (for some reason they don't auto-install):\n",
    "- You'll know if you need to come back to install these if you get an error later in the live coding part.\n"
   ]
  },
  {
   "cell_type": "code",
   "execution_count": null,
   "metadata": {},
   "outputs": [],
   "source": [
    "# !pip install psycopg2\n",
    "# !pip install psycopg2-binary"
   ]
  },
  {
   "cell_type": "code",
   "execution_count": 1,
   "metadata": {},
   "outputs": [],
   "source": [
    "import sqlalchemy"
   ]
  },
  {
   "cell_type": "markdown",
   "metadata": {},
   "source": [
    "### Warmup:\n",
    "- In order to connect to any database, we need 5 things:\n",
    "- Hint: You might not want to hardcode your password in your Jupyter Notebook. Instead, export the variable to your operating system as an \"environment variable\" so it's stored in your computer; not in your python code.\n",
    "    - In Mac / Linux you can run ``export PG_PASSWORD='mypassword'`` in your terminal.\n",
    "    - Alternatively, you include them in your `.bash_profile` or `.bashrc` file in the root directory (`~`) of your computer.\n",
    "    - In Windows, there's a graphical interface for this. You need to search for \"Environment Variables\" in your File Explorer (somewhere in Control Panel / System Preferences)"
   ]
  },
  {
   "cell_type": "code",
   "execution_count": 14,
   "metadata": {},
   "outputs": [],
   "source": [
    "!export PG_PASSWORD='titanic99'"
   ]
  },
  {
   "cell_type": "code",
   "execution_count": 15,
   "metadata": {},
   "outputs": [],
   "source": [
    "import os"
   ]
  },
  {
   "cell_type": "code",
   "execution_count": null,
   "metadata": {},
   "outputs": [],
   "source": [
    "HOST = 'logisticlemongrass.c1ipxvq2s9x8.eu-central-1.rds.amazonaws.com' #alt. localhost\n",
    "PORT = '5432'\n",
    "USER = 'postgres'\n",
    "PASSWORD = os.getenv('PG_PASSWORD')\n",
    "DATABASE = 'postgres'"
   ]
  },
  {
   "cell_type": "code",
   "execution_count": null,
   "metadata": {},
   "outputs": [],
   "source": [
    "conn_string = f'postgres://{USER}:{PASSWORD}@{HOST}:{PORT}/{DATABASE}'"
   ]
  },
  {
   "cell_type": "code",
   "execution_count": null,
   "metadata": {},
   "outputs": [],
   "source": [
    "conn_string"
   ]
  },
  {
   "cell_type": "markdown",
   "metadata": {},
   "source": [
    "### Create an Engine"
   ]
  },
  {
   "cell_type": "code",
   "execution_count": null,
   "metadata": {},
   "outputs": [],
   "source": [
    "engine = sqlalchemy.create_engine(conn_string, echo=True)\n",
    "#turn on echo=True for a more verbose output to see the raw SQL being executed for you under the hood!"
   ]
  },
  {
   "cell_type": "code",
   "execution_count": null,
   "metadata": {},
   "outputs": [],
   "source": [
    "query = '''\n",
    "CREATE TABLE paul2 (\n",
    "id INTEGER,\n",
    "text TEXT);'''\n",
    "\n",
    "engine.execute(query)"
   ]
  },
  {
   "cell_type": "code",
   "execution_count": null,
   "metadata": {},
   "outputs": [],
   "source": [
    "insert_query = '''INSERT INTO paul2 VALUES (1, 'hello!')'''\n",
    "insert_query2 = '''INSERT INTO paul2 VALUES (1, 'world!')'''"
   ]
  },
  {
   "cell_type": "code",
   "execution_count": null,
   "metadata": {},
   "outputs": [],
   "source": [
    "engine.execute(insert_query)\n",
    "engine.execute(insert_query2)"
   ]
  },
  {
   "cell_type": "code",
   "execution_count": null,
   "metadata": {},
   "outputs": [],
   "source": [
    "# bad_insert_query = '''INSERT INTO paul2 VALUES ('two', 'hello!')'''\n",
    "# engine.execute(bad_insert_query)"
   ]
  },
  {
   "cell_type": "markdown",
   "metadata": {},
   "source": [
    "---"
   ]
  },
  {
   "cell_type": "markdown",
   "metadata": {},
   "source": [
    "### Read in Data"
   ]
  },
  {
   "cell_type": "code",
   "execution_count": null,
   "metadata": {},
   "outputs": [],
   "source": [
    "result = engine.execute('SELECT * FROM paul2')"
   ]
  },
  {
   "cell_type": "code",
   "execution_count": null,
   "metadata": {},
   "outputs": [],
   "source": [
    "result \n",
    "#by default, this will return some kind of \"compressed\" iterator object in python that is a direct reference\n",
    "#to the query result, but not yet loaded into memory!"
   ]
  },
  {
   "cell_type": "code",
   "execution_count": null,
   "metadata": {},
   "outputs": [],
   "source": [
    "result.fetchall()\n",
    "#if you want to expand the results into memory (as a list of tuples), then run .fetchall()\n",
    "#alternatively, run --> pd.DataFrame(result)"
   ]
  },
  {
   "cell_type": "markdown",
   "metadata": {},
   "source": [
    "---"
   ]
  },
  {
   "cell_type": "code",
   "execution_count": null,
   "metadata": {},
   "outputs": [],
   "source": [
    "import pandas as pd"
   ]
  },
  {
   "cell_type": "code",
   "execution_count": null,
   "metadata": {},
   "outputs": [],
   "source": [
    "df = pd.read_csv('large_countries_2015.csv', index_col=0)"
   ]
  },
  {
   "cell_type": "code",
   "execution_count": null,
   "metadata": {},
   "outputs": [],
   "source": [
    "df.to_sql('countries', engine)"
   ]
  },
  {
   "cell_type": "markdown",
   "metadata": {},
   "source": [
    "### References: \n",
    "\n",
    "This is a good source when you have a bit more time to read on SQLAlchemy:\n",
    "\n",
    "- https://docs.sqlalchemy.org/en/13/core/engines.html\n",
    "\n"
   ]
  }
 ],
 "metadata": {
  "kernelspec": {
   "display_name": "Python 3",
   "language": "python",
   "name": "python3"
  },
  "language_info": {
   "codemirror_mode": {
    "name": "ipython",
    "version": 3
   },
   "file_extension": ".py",
   "mimetype": "text/x-python",
   "name": "python",
   "nbconvert_exporter": "python",
   "pygments_lexer": "ipython3",
   "version": "3.7.6"
  }
 },
 "nbformat": 4,
 "nbformat_minor": 4
}
