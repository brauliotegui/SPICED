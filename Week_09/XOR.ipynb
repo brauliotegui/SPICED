{
 "cells": [
  {
   "cell_type": "code",
   "execution_count": 2,
   "metadata": {},
   "outputs": [
    {
     "name": "stdout",
     "output_type": "stream",
     "text": [
      "enter first input  : 1\n",
      "enter second input : 2\n",
      "1.0\n"
     ]
    }
   ],
   "source": [
    "input1 = float(input(\"enter first input  : \"))\n",
    "input2 = float(input(\"enter second input : \"))\n",
    "\n",
    "w1 = [0, 0]\n",
    "bias1 = 1\n",
    "dot1 = input1 * w1[0] + input2 * w1[1] + bias1\n",
    "out1 = 1.0 if dot1 > 0.5 else 0.0\n",
    "\n",
    "w2 = [0, 0]\n",
    "bias2 = 1\n",
    "dot2 = input1 * w2[0] + input2 * w2[1] + bias2\n",
    "out2 = 1.0 if dot2 > 0.5 else 0.0\n",
    "\n",
    "w3 = [0, 0]\n",
    "bias3 = 1\n",
    "dot3 = out1 * w3[0] + out2 * w3[1] + bias3\n",
    "out3 = 1.0 if dot3 > 0.5 else 0.0\n",
    "\n",
    "print(out3)"
   ]
  },
  {
   "cell_type": "code",
   "execution_count": null,
   "metadata": {},
   "outputs": [],
   "source": []
  }
 ],
 "metadata": {
  "kernelspec": {
   "display_name": "Python 3",
   "language": "python",
   "name": "python3"
  },
  "language_info": {
   "codemirror_mode": {
    "name": "ipython",
    "version": 3
   },
   "file_extension": ".py",
   "mimetype": "text/x-python",
   "name": "python",
   "nbconvert_exporter": "python",
   "pygments_lexer": "ipython3",
   "version": "3.6.10"
  }
 },
 "nbformat": 4,
 "nbformat_minor": 4
}
