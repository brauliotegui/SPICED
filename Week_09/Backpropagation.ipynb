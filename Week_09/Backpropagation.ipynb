{
 "cells": [
  {
   "cell_type": "markdown",
   "metadata": {},
   "source": [
    "For this exercise, you need to implement the Feed-Forward-Network first.\n",
    "\n",
    "Below you find a step-by-step tutorial for how to build the backpropagation algorithm from scratch, based on the simple, 2-layer, feed- forward network that you have already created."
   ]
  },
  {
   "cell_type": "code",
   "execution_count": 1,
   "metadata": {},
   "outputs": [],
   "source": [
    "import numpy as np"
   ]
  },
  {
   "cell_type": "markdown",
   "metadata": {},
   "source": [
    "- Step 1\n",
    "\n",
    "Let’s start with a toy data set. The “make moons” data set in sklearn is a nice example for this exercise, since it’s simple and also resembles the non-linear “XOR” problem.\n",
    "\n",
    "Create some training data:"
   ]
  },
  {
   "cell_type": "code",
   "execution_count": 2,
   "metadata": {},
   "outputs": [],
   "source": [
    "from sklearn.datasets import make_moons\n",
    "\n",
    "X, y = make_moons(n_samples=50, noise=0.2, random_state=42)"
   ]
  },
  {
   "cell_type": "code",
   "execution_count": 3,
   "metadata": {},
   "outputs": [
    {
     "data": {
      "text/plain": [
       "array([0, 1, 1, 1, 0, 1, 1, 1, 1, 0, 0, 0, 1, 0, 0, 0, 1, 1, 1, 0, 0, 0,\n",
       "       0, 1, 1, 0, 1, 1, 1, 0, 1, 0, 1, 0, 0, 0, 1, 1, 0, 1, 0, 0, 0, 1,\n",
       "       0, 0, 1, 0, 1, 1])"
      ]
     },
     "execution_count": 3,
     "metadata": {},
     "output_type": "execute_result"
    }
   ],
   "source": [
    "y"
   ]
  },
  {
   "cell_type": "markdown",
   "metadata": {},
   "source": [
    "- Step 2\n",
    "\n",
    "Make a scatterplot of the 2 columns of X data.\n",
    "Color the data points according to the labels (y).\n",
    "Hint The plt.scatter() function does a good job plotting NumPy arrays.\n",
    "The data should look like this:"
   ]
  },
  {
   "cell_type": "code",
   "execution_count": 4,
   "metadata": {},
   "outputs": [],
   "source": [
    "import matplotlib.pyplot as plt\\"
   ]
  },
  {
   "cell_type": "code",
   "execution_count": 5,
   "metadata": {},
   "outputs": [
    {
     "data": {
      "text/plain": [
       "<matplotlib.collections.PathCollection at 0x7fd31dbb5550>"
      ]
     },
     "execution_count": 5,
     "metadata": {},
     "output_type": "execute_result"
    },
    {
     "data": {
      "image/png": "[encoded data removed]",
      "text/plain": [
       "<Figure size 432x288 with 1 Axes>"
      ]
     },
     "metadata": {
      "needs_background": "light"
     },
     "output_type": "display_data"
    }
   ],
   "source": [
    "plt.scatter(X[:,0], X[:,1], c=y)"
   ]
  },
  {
   "cell_type": "markdown",
   "metadata": {},
   "source": [
    "- Step 3\n",
    "\n",
    "Since we are modeling our data set with a bias (all ones), we need to add a third column to our X array.\n",
    "\n",
    "Use NumPy to “horizontally stack” an extra column for the bias onto your input:\n",
    "\n",
    "X = np.hstack([X, np.ones((X.shape[0], 1))])"
   ]
  },
  {
   "cell_type": "code",
   "execution_count": 6,
   "metadata": {},
   "outputs": [],
   "source": [
    "import numpy as np"
   ]
  },
  {
   "cell_type": "code",
   "execution_count": 7,
   "metadata": {},
   "outputs": [],
   "source": [
    "# manually add a column for bias\n",
    "X = np.hstack([X, np.ones((X.shape[0], 1))])"
   ]
  },
  {
   "cell_type": "markdown",
   "metadata": {},
   "source": [
    "- Step 4\n",
    "\n",
    "In our simple feed-forward network, we’ll be using the sigmoid activation function for all 3 of our neurons. Remember the sigmoid function from way back in Logistic Regression?\n",
    "\n",
    "Write a python function, sigmoid, that accepts a NumPy array as an input, and returns a NumPy array where all of the original values have been transformed by the sigmoid / logistic function (or, as 3Blue1Brown would call it, the “squishification” function).\n",
    "\n",
    "def sigmoid(x):\n",
    "\n",
    "    ...\n",
    "\n",
    "\n",
    "You’ll know if you wrote it correctly if the following code doesn’t throw an assertion error:\n",
    "\n",
    "\n",
    "a = np.array([-10.0, -1.0, 0.0, 1.0, 10.0])\n",
    "\n",
    "expected = np.array([0.0, 0.27, 0.5, 0.73, 1.0])\n",
    "\n",
    "assert np.all(sigmoid(a).round(2) == expected)"
   ]
  },
  {
   "cell_type": "code",
   "execution_count": 8,
   "metadata": {},
   "outputs": [],
   "source": [
    "# let's model our neurons/ activation functions as a sigmoid function\n",
    "\n",
    "def sigmoid(x):\n",
    "    '''logistic function\n",
    "        takes in a single number, and squishes it\n",
    "        between 0 and 1.'''\n",
    "    \n",
    "    return 1 / (1 + np.exp(-x))"
   ]
  },
  {
   "cell_type": "code",
   "execution_count": 9,
   "metadata": {},
   "outputs": [],
   "source": [
    "a = np.array([-10.0, -1.0, 0.0, 1.0, 10.0])\n",
    "expected = np.array([0.0, 0.27, 0.5, 0.73, 1.0])\n",
    "\n",
    "assert np.all(sigmoid(a).round(2) == expected)"
   ]
  },
  {
   "cell_type": "markdown",
   "metadata": {},
   "source": [
    "- Step 5\n",
    "\n",
    "Refer again to the image of network we’re trying to build. What about all the neural connections / arrows? Those are our weights.\n",
    "\n",
    "These weights should also be represented by NumPy arrays, since they will multiplied (i.e. dot product) by input values before getting passed into an activation function.\n",
    "\n",
    "Initialize the network with random weights (for both the hidden and output layers)."
   ]
  },
  {
   "cell_type": "markdown",
   "metadata": {},
   "source": [
    "Hint (questions to help guide you):\n",
    "- In our simple network, how many weights should we have, in total?\n",
    "- How many weights are in the hidden layer, and how many in the output layer?\n",
    "- If we represent the weights for each layer with a separate numpy array, what should its shape be, given that – for example – the first layer has 3 inputs that feed 2 neurons?"
   ]
  },
  {
   "cell_type": "code",
   "execution_count": 10,
   "metadata": {},
   "outputs": [],
   "source": [
    "# the values of the arrows == weights/ parameters"
   ]
  },
  {
   "cell_type": "code",
   "execution_count": 11,
   "metadata": {},
   "outputs": [],
   "source": [
    "hidden_weights = np.random.rand(3, 2)    # 3 inputs feeding into 2 neurons\n",
    "outer_weights = np.random.rand(3, 1)     # 3 inputs feeding into 1 neuron   "
   ]
  },
  {
   "cell_type": "markdown",
   "metadata": {},
   "source": [
    "- Step 6\n",
    "\n",
    "Connect all the pieces and “build” the network!\n",
    "\n",
    "Wrap everything into a python function that “runs” the feed-forward network from beginning to end one time. This function should accept the input data as an argument, as well as the initial random weights.\n",
    "\n",
    "In the annotated template code below, the weights are assumed to be a single argument (e.g. a list of a NumPy arrays), but this of course could be split into separate arguments."
   ]
  },
  {
   "cell_type": "code",
   "execution_count": 12,
   "metadata": {},
   "outputs": [],
   "source": [
    "weights = [hidden_weights, outer_weights]"
   ]
  },
  {
   "cell_type": "code",
   "execution_count": 13,
   "metadata": {},
   "outputs": [
    {
     "data": {
      "text/plain": [
       "[array([[0.20971176, 0.17640142],\n",
       "        [0.40567984, 0.06611907],\n",
       "        [0.39220322, 0.86923516]]),\n",
       " array([[0.71571162],\n",
       "        [0.80370787],\n",
       "        [0.7011034 ]])]"
      ]
     },
     "execution_count": 13,
     "metadata": {},
     "output_type": "execute_result"
    }
   ],
   "source": [
    "weights"
   ]
  },
  {
   "cell_type": "code",
   "execution_count": 14,
   "metadata": {},
   "outputs": [],
   "source": [
    "def feed_forward(X, weights):\n",
    "\n",
    "    \"\"\"\n",
    "    1. Calculate the dot product of X\n",
    "       and the weights of the first layer.\n",
    "\n",
    "    2. Apply the sigmoid function on the result.\n",
    "\n",
    "    3. Append an extra column of ones to the result (i.e. the bias).\n",
    "\n",
    "    4. Calculate the dot product of the previous step\n",
    "       with the weights of the second (i.e. outer) layer.\n",
    "\n",
    "    5. Apply the sigmoid function on the result.\n",
    "\n",
    "    6. Return all intermediate results (i.e. anything that is outputted\n",
    "       by an activation function).\n",
    "    \"\"\"\n",
    "    \n",
    "    #1\n",
    "    step1 = np.dot(X, weights[0])\n",
    "    \n",
    "    #2\n",
    "    step2 = sigmoid(step1)\n",
    "    \n",
    "    #3\n",
    "    step3 = np.hstack([step2, np.ones((step2.shape[0], 1))])\n",
    "    \n",
    "    #4 \n",
    "    step4 = np.dot(step3, weights[1])\n",
    "    \n",
    "    #5\n",
    "    step5 = sigmoid(step4)\n",
    "    \n",
    "    #6\n",
    "\n",
    "    return step2, step5"
   ]
  },
  {
   "cell_type": "markdown",
   "metadata": {},
   "source": [
    "## Part2: Training the Neural Network\n",
    "\n",
    "- Using an algorithm like Gradient Descent\n",
    "- General idea is to slowly (in increments) tweak the parameters such that the prediction is better than before."
   ]
  },
  {
   "cell_type": "markdown",
   "metadata": {},
   "source": [
    "#### Step 1: Debugging Check\n",
    "\n",
    "Run your code for the Feed-Forward-Network and make sure it works."
   ]
  },
  {
   "cell_type": "code",
   "execution_count": 17,
   "metadata": {},
   "outputs": [],
   "source": [
    "out1, out2 = feed_forward(X, weights)"
   ]
  },
  {
   "cell_type": "markdown",
   "metadata": {},
   "source": [
    "#### Step 2: Write a Loss Function\n",
    "\n",
    "The first thing we’ll need is a loss function. In the gradient descent lesson earlier in the course, we used the mean-squared-error (MSE) as our loss function, which we wanted to minimize. In this case, however, because we are doing a classification problem with a sigmoid activation function as the final layer, we won’t use MSE, but rather the log-loss. The log-loss quantifies how far away are we from the real labels / correct result.\n",
    "\n",
    "According to sklearn: Log-loss is the “function used in (multinomial) logistic regression and extensions of it such as neural networks, defined as the negative log-likelihood of the true labels given a probabilistic classifier’s predictions.”\n",
    "\n",
    "Here’s the formula for log-loss. The first task is to transcribe this formula into a Python function.\n",
    "\n",
    "loss=−(ytrue∗log(ypred)+(1−ytrue)∗log(1−ypred))"
   ]
  },
  {
   "cell_type": "code",
   "execution_count": 19,
   "metadata": {},
   "outputs": [],
   "source": [
    "def log_loss(ytrue, ypred):\n",
    "    \n",
    "    ''' return the log loss\n",
    "        '''\n",
    "    loss = -(ytrue * np.log(ypred) + (1-ytrue) * np.log(1-ypred))\n",
    "    \n",
    "    return loss"
   ]
  },
  {
   "cell_type": "code",
   "execution_count": 22,
   "metadata": {},
   "outputs": [],
   "source": [
    "y_true = np.array([0.0, 0.0, 1.0, 1.0])\n",
    "y_pred = np.array([0.01, 0.99, 0.01, 0.99])\n",
    "expected = np.array([0.01, 4.61, 4.61, 0.01])\n",
    "\n",
    "assert np.all(log_loss(y_true, y_pred).round(2) == expected)"
   ]
  },
  {
   "cell_type": "markdown",
   "metadata": {},
   "source": [
    "#### Step 3: Get Initial Loss\n",
    "\n",
    "Run your feed-forward function, and try getting an array of log-loss values for each of your data points, compared to the actual labels. Note that you’ll need to reshape the ytrue values from a (N, ) array to a (N, 1) array (e.g. both the prediction and the actual values should be (50,1)). Make sure the shape of the loss values is also (N,1)."
   ]
  },
  {
   "cell_type": "code",
   "execution_count": 24,
   "metadata": {},
   "outputs": [],
   "source": [
    "out1, out2 = feed_forward(X, weights)\n",
    "ytrue = y.reshape(-1, 1)"
   ]
  },
  {
   "cell_type": "code",
   "execution_count": 27,
   "metadata": {},
   "outputs": [
    {
     "data": {
      "text/plain": [
       "(50, 1)"
      ]
     },
     "execution_count": 27,
     "metadata": {},
     "output_type": "execute_result"
    }
   ],
   "source": [
    "ytrue.shape"
   ]
  },
  {
   "cell_type": "code",
   "execution_count": 30,
   "metadata": {},
   "outputs": [
    {
     "data": {
      "text/plain": [
       "(50, 1)"
      ]
     },
     "execution_count": 30,
     "metadata": {},
     "output_type": "execute_result"
    }
   ],
   "source": [
    "out2.shape"
   ]
  },
  {
   "cell_type": "code",
   "execution_count": 32,
   "metadata": {},
   "outputs": [
    {
     "data": {
      "text/plain": [
       "(50, 1)"
      ]
     },
     "execution_count": 32,
     "metadata": {},
     "output_type": "execute_result"
    }
   ],
   "source": [
    "init_loss = log_loss(ytrue, out2) \n",
    "init_loss.shape"
   ]
  },
  {
   "cell_type": "markdown",
   "metadata": {},
   "source": [
    "#### Step 4: Write a Backpropagation Function\n",
    "\n",
    "Fill in the blanks of the following function, which transcribes the equations from earlier (equations A - E) to run one iteration of the backpropagation algorithm. It takes in a handful of arguments:\n",
    "\n",
    "* the initial weights,\n",
    "* the outputs from the feed-forward process (i.e. both the hidden output and the final output),\n",
    "* the true labels,\n",
    "* the input data,\n",
    "* and the learning rates (we’ll have a separate learning rate for each layer of the network).\n",
    "\n",
    "The function (representing a single iteration of the backpropagation algorithm), should return the modified hidden weights and the modified outer weights."
   ]
  },
  {
   "cell_type": "code",
   "execution_count": 64,
   "metadata": {},
   "outputs": [],
   "source": [
    "def backprop(weights,\n",
    "             output1,\n",
    "             output2,\n",
    "             ytrue,\n",
    "             X_input,\n",
    "             LR_O,\n",
    "             LR_H):\n",
    "    \n",
    "    #separate learning rates for outer and inner weights.\n",
    "    wH = weights[0]\n",
    "    wO = weights[1]\n",
    "\n",
    "    '''EQUATION A:'''\n",
    "    ytrue = ytrue.reshape(-1, 1)\n",
    "    error = (output2 - ytrue) * log_loss(ytrue ,output2)\n",
    "\n",
    "    '''EQUATION B:'''\n",
    "    sig_deriv = output2 * (1 - output2)\n",
    "    #derivative of the sigmoid function with respect to the\n",
    "    #hidden output * weights\n",
    "    y_grad = sig_deriv * error\n",
    "\n",
    "    '''EQUATION C:'''\n",
    "    hidden_out_with_bias = np.hstack([output1,np.ones((output1.shape[0],1))])\n",
    "    #don't forget the bias!\n",
    "    delta_wo = np.dot(-y_grad.transpose(), hidden_out_with_bias) * LR_O\n",
    "\n",
    "    #and finally, old weights + delta weights -> new weights!\n",
    "    wO_new = wO + delta_wo.transpose()\n",
    "\n",
    "    '''EQUATION D:'''\n",
    "    sig_deriv_2 = output1 * (1 - output1)\n",
    "    H_grad = sig_deriv_2  * np.dot(y_grad, wO_new[:2].transpose())\n",
    "    #exclude the bias (3rd column) of the outer weights,\n",
    "    #since it is not backpropagated!\n",
    "\n",
    "    '''EQUATION E:'''\n",
    "    delta_wH = np.dot(-H_grad.transpose(), X_input) * LR_H\n",
    "    wH_new = wH + delta_wH.transpose()\n",
    "    #old weights + delta weights -> new weights!\n",
    "\n",
    "    return wH_new, wO_new"
   ]
  },
  {
   "cell_type": "code",
   "execution_count": 65,
   "metadata": {},
   "outputs": [
    {
     "data": {
      "text/plain": [
       "(array([[-0.06655616, -0.12067024],\n",
       "        [ 2.04393659,  1.74088252],\n",
       "        [ 3.30815992,  3.76452921]]),\n",
       " array([[-2.56083899],\n",
       "        [-2.78669679],\n",
       "        [-4.35917266]]))"
      ]
     },
     "execution_count": 65,
     "metadata": {},
     "output_type": "execute_result"
    }
   ],
   "source": [
    "backprop(weights, out1, out2, y, X, 1.0, 1.0)"
   ]
  },
  {
   "cell_type": "code",
   "execution_count": 66,
   "metadata": {},
   "outputs": [],
   "source": [
    "wH_new, wO_new = backprop(weights, out1, out2, y, X, 1.0, 1.0)"
   ]
  },
  {
   "cell_type": "code",
   "execution_count": 67,
   "metadata": {},
   "outputs": [],
   "source": [
    "new_weights = [wH_new, wO_new]"
   ]
  },
  {
   "cell_type": "markdown",
   "metadata": {},
   "source": [
    "#### Step 5: Run the Backpropagation Algorithm\n",
    "\n",
    "Run your backpropagation algorithm in a loop! Inside the loop:\n",
    "\n",
    "Run your feed-forward function with the X data and the starting weights (which are initially random!).\n",
    "Collect the total sum of the log-loss values into a list, so we can track them over time.\n",
    "Run your backprop function to get the modified weights.\n",
    "At the end of the loop, make your modified weights the new weights for the next cycle."
   ]
  },
  {
   "cell_type": "code",
   "execution_count": 68,
   "metadata": {},
   "outputs": [],
   "source": [
    "LOSS_VEC = []\n",
    "for i in range(500):\n",
    "    out1, out2 = feed_forward(X, weights)\n",
    "    LOSS_VEC.append(sum(log_loss(y, out2))[0])\n",
    "    new_weights = backprop(weights, out1, out2, y, X, 1.0, 1.0)\n",
    "    weights = new_weights"
   ]
  },
  {
   "cell_type": "markdown",
   "metadata": {},
   "source": [
    "#### Step 6: Plot Results\n",
    "\n",
    "Use matplotlib to plot the loss of your network over each iteration (i.e. epoch).\n",
    "\n",
    "BONUS: Write a function that calculates the accuracy of your model (hint: you’ll have to round your probabilities up/down to 1/0). Include this function in your loop so that you can also plot accuracy over each epoch. How high can you get the accuracy?"
   ]
  },
  {
   "cell_type": "code",
   "execution_count": null,
   "metadata": {},
   "outputs": [],
   "source": [
    "import matplotlib.pyplot as plt\n"
   ]
  }
 ],
 "metadata": {
  "kernelspec": {
   "display_name": "Python 3",
   "language": "python",
   "name": "python3"
  },
  "language_info": {
   "codemirror_mode": {
    "name": "ipython",
    "version": 3
   },
   "file_extension": ".py",
   "mimetype": "text/x-python",
   "name": "python",
   "nbconvert_exporter": "python",
   "pygments_lexer": "ipython3",
   "version": "3.7.6"
  }
 },
 "nbformat": 4,
 "nbformat_minor": 4
}
