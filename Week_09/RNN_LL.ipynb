{
 "cells": [
  {
   "cell_type": "markdown",
   "metadata": {},
   "source": [
    "---"
   ]
  },
  {
   "cell_type": "markdown",
   "metadata": {},
   "source": [
    "### Recurrent Neural Network"
   ]
  },
  {
   "cell_type": "code",
   "execution_count": 1,
   "metadata": {},
   "outputs": [],
   "source": [
    "import tensorflow.keras as keras\n",
    "from tensorflow.keras.models import Sequential\n",
    "from tensorflow.keras.layers import Input, Dense, Flatten, LSTM, Embedding\n",
    "from tensorflow.keras.preprocessing import sequence\n",
    "from tensorflow.keras.utils import to_categorical\n",
    "from sklearn.datasets import fetch_20newsgroups\n",
    "import matplotlib.pyplot as plt\n",
    "import numpy as np\n",
    "import re"
   ]
  },
  {
   "cell_type": "code",
   "execution_count": 2,
   "metadata": {},
   "outputs": [],
   "source": [
    "data = fetch_20newsgroups(remove=['headers', 'footers'])"
   ]
  },
  {
   "cell_type": "code",
   "execution_count": 3,
   "metadata": {},
   "outputs": [
    {
     "data": {
      "text/plain": [
       "['alt.atheism',\n",
       " 'comp.graphics',\n",
       " 'comp.os.ms-windows.misc',\n",
       " 'comp.sys.ibm.pc.hardware',\n",
       " 'comp.sys.mac.hardware',\n",
       " 'comp.windows.x',\n",
       " 'misc.forsale',\n",
       " 'rec.autos',\n",
       " 'rec.motorcycles',\n",
       " 'rec.sport.baseball',\n",
       " 'rec.sport.hockey',\n",
       " 'sci.crypt',\n",
       " 'sci.electronics',\n",
       " 'sci.med',\n",
       " 'sci.space',\n",
       " 'soc.religion.christian',\n",
       " 'talk.politics.guns',\n",
       " 'talk.politics.mideast',\n",
       " 'talk.politics.misc',\n",
       " 'talk.religion.misc']"
      ]
     },
     "execution_count": 3,
     "metadata": {},
     "output_type": "execute_result"
    }
   ],
   "source": [
    "data['target_names']"
   ]
  },
  {
   "cell_type": "code",
   "execution_count": 4,
   "metadata": {},
   "outputs": [],
   "source": [
    "categories = ['soc.religion.christian', 'talk.politics.guns']"
   ]
  },
  {
   "cell_type": "code",
   "execution_count": 5,
   "metadata": {},
   "outputs": [],
   "source": [
    "data = fetch_20newsgroups(categories=categories, remove=['headers', 'footers'])"
   ]
  },
  {
   "cell_type": "code",
   "execution_count": 6,
   "metadata": {},
   "outputs": [],
   "source": [
    "X = data['data']"
   ]
  },
  {
   "cell_type": "code",
   "execution_count": 7,
   "metadata": {},
   "outputs": [],
   "source": [
    "# X[0] - checked content = christianity. 0 MEANS christianity, 1 MEANS guns"
   ]
  },
  {
   "cell_type": "code",
   "execution_count": 8,
   "metadata": {},
   "outputs": [],
   "source": [
    "y = data['target']"
   ]
  },
  {
   "cell_type": "code",
   "execution_count": 9,
   "metadata": {},
   "outputs": [
    {
     "data": {
      "text/plain": [
       "array([0, 0, 0, 0, 1, 1, 1, 0, 1, 1])"
      ]
     },
     "execution_count": 9,
     "metadata": {},
     "output_type": "execute_result"
    }
   ],
   "source": [
    "y[:10]  # 0's christian, 1's guns"
   ]
  },
  {
   "cell_type": "markdown",
   "metadata": {},
   "source": [
    "### Text preprocessing \n",
    "\n",
    "* split \n",
    "* drop special characters and stop words\n",
    "* tokenisation\n",
    "* vectorize = we'll use keras embedding layer for that"
   ]
  },
  {
   "cell_type": "code",
   "execution_count": 10,
   "metadata": {},
   "outputs": [],
   "source": [
    "def clean_text(text,label,cap):\n",
    "    clean_text = []\n",
    "    clean_label = []\n",
    "    for i, email in enumerate(text):\n",
    "        email = email.lower()\n",
    "        email = re.findall('(?u)\\\\b\\\\w\\\\w+\\\\b', email)\n",
    "        if len(email) <= cap:\n",
    "            clean_text.append(email)\n",
    "            clean_label.append(label[i])\n",
    "    return clean_text, clean_label"
   ]
  },
  {
   "cell_type": "code",
   "execution_count": 11,
   "metadata": {},
   "outputs": [
    {
     "data": {
      "text/plain": [
       "70849"
      ]
     },
     "execution_count": 11,
     "metadata": {},
     "output_type": "execute_result"
    }
   ],
   "source": [
    "sorted([len(x) for x in X])[-1]  #longest e-mail"
   ]
  },
  {
   "cell_type": "code",
   "execution_count": 12,
   "metadata": {},
   "outputs": [
    {
     "data": {
      "text/plain": [
       "13"
      ]
     },
     "execution_count": 12,
     "metadata": {},
     "output_type": "execute_result"
    }
   ],
   "source": [
    "sorted([len(x) for x in X])[0]  #shortest e-mail"
   ]
  },
  {
   "cell_type": "markdown",
   "metadata": {},
   "source": [
    "We could split the long e-mails or we could drop them.\n",
    "\n",
    "\n",
    "Better not to lose data, but I want my model to train fast"
   ]
  },
  {
   "cell_type": "code",
   "execution_count": 13,
   "metadata": {},
   "outputs": [],
   "source": [
    "clean_X, clean_y = clean_text(X, y, 300)"
   ]
  },
  {
   "cell_type": "markdown",
   "metadata": {},
   "source": [
    "#### Make a vocab list"
   ]
  },
  {
   "cell_type": "code",
   "execution_count": 14,
   "metadata": {},
   "outputs": [],
   "source": [
    "vocab_list = []\n",
    "for email in clean_X:\n",
    "    for word in email:\n",
    "        vocab_list.append(word)\n",
    "        \n",
    "vocab_list = list(set(vocab_list))\n",
    "vocab_size = len(vocab_list) + 1"
   ]
  },
  {
   "cell_type": "markdown",
   "metadata": {},
   "source": [
    "#### Make a dictionary for words to numbers and back again"
   ]
  },
  {
   "cell_type": "code",
   "execution_count": 15,
   "metadata": {},
   "outputs": [],
   "source": [
    "word_to_num = {}\n",
    "\n",
    "for i, word in enumerate(vocab_list):\n",
    "    word_to_num[word] = i+1 #i+1 because we're reserving 0 for blank space"
   ]
  },
  {
   "cell_type": "code",
   "execution_count": 16,
   "metadata": {},
   "outputs": [
    {
     "data": {
      "text/plain": [
       "4054"
      ]
     },
     "execution_count": 16,
     "metadata": {},
     "output_type": "execute_result"
    }
   ],
   "source": [
    "word_to_num['christian']"
   ]
  },
  {
   "cell_type": "code",
   "execution_count": 38,
   "metadata": {},
   "outputs": [],
   "source": [
    "vec_X = [[word_to_num[word] for word in email] for email in clean_X]"
   ]
  },
  {
   "cell_type": "markdown",
   "metadata": {},
   "source": [
    "#### find the max length of the text, then pad all seqeunces to match that length - input shape in NN has to be consistent!!"
   ]
  },
  {
   "cell_type": "code",
   "execution_count": 39,
   "metadata": {},
   "outputs": [
    {
     "data": {
      "text/plain": [
       "(299, 82)"
      ]
     },
     "execution_count": 39,
     "metadata": {},
     "output_type": "execute_result"
    }
   ],
   "source": [
    "max_len = 0\n",
    "position = 0\n",
    "for i, email in enumerate(clean_X):\n",
    "    if len(email) > max_len:\n",
    "        max_len = len(email)\n",
    "        position = i\n",
    "max_len, position"
   ]
  },
  {
   "cell_type": "markdown",
   "metadata": {},
   "source": [
    "#### Lets pad the sequences"
   ]
  },
  {
   "cell_type": "code",
   "execution_count": 40,
   "metadata": {},
   "outputs": [],
   "source": [
    "pad_vec_X = sequence.pad_sequences(vec_X, maxlen=max_len, padding='pre')"
   ]
  },
  {
   "cell_type": "markdown",
   "metadata": {},
   "source": [
    "---"
   ]
  },
  {
   "cell_type": "markdown",
   "metadata": {},
   "source": [
    "#### This is what we've done in RNNs so far\n",
    "* download test emails\n",
    "* removed special characters\n",
    "* transformed the words into numbers\n",
    "* cast them into a list\n",
    "* padded them with zeroes so every email number list has the same length"
   ]
  },
  {
   "cell_type": "markdown",
   "metadata": {},
   "source": [
    "#### This is what we have to do now\n",
    "* initialise an lstm\n",
    "* train in on the Xtrain data \n",
    "* test it on our Xtest data"
   ]
  },
  {
   "cell_type": "code",
   "execution_count": 41,
   "metadata": {},
   "outputs": [],
   "source": [
    "from sklearn.model_selection import train_test_split"
   ]
  },
  {
   "cell_type": "code",
   "execution_count": 54,
   "metadata": {},
   "outputs": [],
   "source": [
    "Xtrain, Xtest, ytrain, ytest = train_test_split(pad_vec_X, np.array(clean_y))"
   ]
  },
  {
   "cell_type": "markdown",
   "metadata": {},
   "source": [
    "---"
   ]
  },
  {
   "cell_type": "markdown",
   "metadata": {},
   "source": [
    "#### Now lets create the model\n",
    "We build a sequential model\n",
    "\n",
    "Then add an Embedding layer\n",
    "\n",
    "This layer takes 3 parameters - the size of the vocab (input_dims), the no. of dimensions of each word embedding (output_dim), and the length of each document (input_length), which we've standardised above. It returns a 2d matrix, with rows equal to each word in the document, and columns equal to the number of dimensions in the word embedding. \n",
    "\n",
    "*Actually its 3D, cos the batch_size is the first dimension in both input and output, but I find that confuses things more than it clarifies*\n",
    "Put another way \n",
    "\n",
    "The embedding **takes in** a factorized corpus, e.g.:\n",
    "\n",
    "**[The, cat, sat, on, the, mat]**    becomes    **[1,2,3,4,1,5]**\n",
    "\n",
    "And **outputs** a word embedded corpus:\n",
    "\n",
    "**[1,2,3,4,1,5]**    becomes (lets assume output_dim=2)   **[[0.2,0.7], [0.6,0.3], [0.1,0.8], [0.2,0.1], [0.4,0.9], [0.2,0.7]]**"
   ]
  },
  {
   "cell_type": "code",
   "execution_count": 55,
   "metadata": {},
   "outputs": [],
   "source": [
    "model = Sequential()"
   ]
  },
  {
   "cell_type": "code",
   "execution_count": 56,
   "metadata": {},
   "outputs": [],
   "source": [
    "model.add(Embedding(input_dim=vocab_size, output_dim=32, input_length=max_len))"
   ]
  },
  {
   "cell_type": "code",
   "execution_count": 57,
   "metadata": {},
   "outputs": [],
   "source": [
    "model.add(LSTM(128))  #units? if no.units > max_len, likely to overfit"
   ]
  },
  {
   "cell_type": "code",
   "execution_count": 58,
   "metadata": {},
   "outputs": [],
   "source": [
    "model.add(Dense(1, activation='sigmoid'))"
   ]
  },
  {
   "cell_type": "markdown",
   "metadata": {},
   "source": [
    "---"
   ]
  },
  {
   "cell_type": "code",
   "execution_count": 59,
   "metadata": {},
   "outputs": [],
   "source": [
    "model.compile(loss='binary_crossentropy', metrics=['accuracy'])"
   ]
  },
  {
   "cell_type": "code",
   "execution_count": 60,
   "metadata": {},
   "outputs": [
    {
     "name": "stdout",
     "output_type": "stream",
     "text": [
      "Epoch 1/10\n",
      "8/8 [==============================] - 2s 214ms/step - loss: 0.6926 - accuracy: 0.5219 - val_loss: 0.6900 - val_accuracy: 0.4737\n",
      "Epoch 2/10\n",
      "8/8 [==============================] - 1s 173ms/step - loss: 0.9358 - accuracy: 0.6382 - val_loss: 0.6752 - val_accuracy: 0.5263\n",
      "Epoch 3/10\n",
      "8/8 [==============================] - 1s 176ms/step - loss: 0.6522 - accuracy: 0.6798 - val_loss: 0.6943 - val_accuracy: 0.5263\n",
      "Epoch 4/10\n",
      "8/8 [==============================] - 1s 171ms/step - loss: 0.4774 - accuracy: 0.8048 - val_loss: 0.4128 - val_accuracy: 0.8860\n",
      "Epoch 5/10\n",
      "8/8 [==============================] - 1s 168ms/step - loss: 0.4930 - accuracy: 0.9167 - val_loss: 0.4446 - val_accuracy: 0.8070\n",
      "Epoch 6/10\n",
      "8/8 [==============================] - 1s 175ms/step - loss: 0.3156 - accuracy: 0.9496 - val_loss: 0.6169 - val_accuracy: 0.7895\n",
      "Epoch 7/10\n",
      "8/8 [==============================] - 1s 186ms/step - loss: 0.5080 - accuracy: 0.9759 - val_loss: 0.5465 - val_accuracy: 0.8158\n",
      "Epoch 8/10\n",
      "8/8 [==============================] - 1s 173ms/step - loss: 0.1980 - accuracy: 0.9912 - val_loss: 0.2744 - val_accuracy: 0.8860\n",
      "Epoch 9/10\n",
      "8/8 [==============================] - 1s 176ms/step - loss: 0.0992 - accuracy: 0.9759 - val_loss: 0.4941 - val_accuracy: 0.7456\n",
      "Epoch 10/10\n",
      "8/8 [==============================] - 1s 170ms/step - loss: 0.3800 - accuracy: 0.9693 - val_loss: 0.5469 - val_accuracy: 0.7807\n"
     ]
    }
   ],
   "source": [
    "history = model.fit(Xtrain,ytrain,epochs=10, batch_size=64, validation_split=0.2)"
   ]
  },
  {
   "cell_type": "code",
   "execution_count": 61,
   "metadata": {},
   "outputs": [
    {
     "data": {
      "text/plain": [
       "<matplotlib.legend.Legend at 0x7fe4de5af0b8>"
      ]
     },
     "execution_count": 61,
     "metadata": {},
     "output_type": "execute_result"
    },
    {
     "data": {
      "image/png": "[encoded data removed]",
      "text/plain": [
       "<Figure size 432x288 with 1 Axes>"
      ]
     },
     "metadata": {
      "needs_background": "light"
     },
     "output_type": "display_data"
    }
   ],
   "source": [
    "plt.plot(history.history['loss'])\n",
    "plt.plot(history.history['val_loss'])\n",
    "plt.legend(['loss', 'val_loss'])"
   ]
  },
  {
   "cell_type": "code",
   "execution_count": 62,
   "metadata": {},
   "outputs": [
    {
     "data": {
      "text/plain": [
       "<matplotlib.legend.Legend at 0x7fe4ddbf7048>"
      ]
     },
     "execution_count": 62,
     "metadata": {},
     "output_type": "execute_result"
    },
    {
     "data": {
      "image/png": "[encoded data removed]",
      "text/plain": [
       "<Figure size 432x288 with 1 Axes>"
      ]
     },
     "metadata": {
      "needs_background": "light"
     },
     "output_type": "display_data"
    }
   ],
   "source": [
    "plt.plot(history.history['accuracy'])\n",
    "plt.plot(history.history['val_accuracy'])\n",
    "plt.legend(['accuracy', 'val_accuracy'])"
   ]
  },
  {
   "cell_type": "code",
   "execution_count": 63,
   "metadata": {},
   "outputs": [
    {
     "name": "stdout",
     "output_type": "stream",
     "text": [
      "6/6 [==============================] - 0s 32ms/step - loss: 0.5431 - accuracy: 0.8482\n"
     ]
    },
    {
     "data": {
      "text/plain": [
       "[0.5430743098258972, 0.8481675386428833]"
      ]
     },
     "execution_count": 63,
     "metadata": {},
     "output_type": "execute_result"
    }
   ],
   "source": [
    "model.evaluate(Xtest,ytest)"
   ]
  },
  {
   "cell_type": "markdown",
   "metadata": {},
   "source": [
    "#### Conclusion\n",
    "* LSTM are v good on sequential data BUT\n",
    "* Overfit easily - how can treat for that?\n",
    "* And they still suffer from - word sense disambiguation, long long term memory isn't captured"
   ]
  },
  {
   "cell_type": "code",
   "execution_count": null,
   "metadata": {},
   "outputs": [],
   "source": []
  }
 ],
 "metadata": {
  "kernelspec": {
   "display_name": "Python 3",
   "language": "python",
   "name": "python3"
  },
  "language_info": {
   "codemirror_mode": {
    "name": "ipython",
    "version": 3
   },
   "file_extension": ".py",
   "mimetype": "text/x-python",
   "name": "python",
   "nbconvert_exporter": "python",
   "pygments_lexer": "ipython3",
   "version": "3.6.10"
  }
 },
 "nbformat": 4,
 "nbformat_minor": 4
}
