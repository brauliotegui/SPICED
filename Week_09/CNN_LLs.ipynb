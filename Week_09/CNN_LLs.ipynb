{
 "cells": [
  {
   "cell_type": "markdown",
   "metadata": {},
   "source": [
    "### CNN\n",
    "\n",
    "#### Train a CNN on the MNIST data"
   ]
  },
  {
   "cell_type": "code",
   "execution_count": 1,
   "metadata": {},
   "outputs": [],
   "source": [
    "from tensorflow.keras.datasets import mnist\n",
    "from tensorflow.keras.models import Sequential\n",
    "from tensorflow.keras.layers import Input, Dense, Flatten, Conv2D, MaxPooling2D, Activation\n",
    "from tensorflow.keras.utils import to_categorical\n",
    "from tensorflow.keras.callbacks import EarlyStopping\n",
    "from tensorflow.keras.layers import Dropout\n",
    "\n",
    "import numpy as np\n",
    "import matplotlib.pyplot as plt"
   ]
  },
  {
   "cell_type": "code",
   "execution_count": 2,
   "metadata": {},
   "outputs": [],
   "source": [
    "(X_train, y_train), (X_test, y_test) = mnist.load_data()"
   ]
  },
  {
   "cell_type": "markdown",
   "metadata": {},
   "source": [
    "#### We need to reshape our X and y data\n",
    "* For X, we need to add a 4th dimension using `np.expand_dims`\n",
    "* For y, we need to factorize our labels using `to_categorical`"
   ]
  },
  {
   "cell_type": "code",
   "execution_count": 3,
   "metadata": {},
   "outputs": [],
   "source": [
    "X_train_reshaped = np.expand_dims(X_train, axis=3)\n",
    "X_test_reshaped = np.expand_dims(X_test, axis=3)\n",
    "y_train_cats = to_categorical(y_train)\n",
    "y_test_cats = to_categorical(y_test)"
   ]
  },
  {
   "cell_type": "code",
   "execution_count": 4,
   "metadata": {},
   "outputs": [
    {
     "data": {
      "text/plain": [
       "(60000, 28, 28, 1)"
      ]
     },
     "execution_count": 4,
     "metadata": {},
     "output_type": "execute_result"
    }
   ],
   "source": [
    "X_train_reshaped.shape"
   ]
  },
  {
   "cell_type": "markdown",
   "metadata": {},
   "source": [
    "#### Now we can build the model\n",
    "* We can define the number of kernels\n",
    "* The number of strides\n",
    "* The activation function to be used"
   ]
  },
  {
   "cell_type": "code",
   "execution_count": 5,
   "metadata": {},
   "outputs": [],
   "source": [
    "model = Sequential([\n",
    "    Conv2D(filters=40,             # aka neurons/kernels\n",
    "           kernel_size=(3,3),      # (3,3) kernel has 9+1 parameters\n",
    "           strides=(2,2),          # bigger > smaller output [default:(1,1) and use MaxPool aftwerwards]\n",
    "           activation='relu',      #ReLu great first choice. ELU for optimization\n",
    "           input_shape=(28,28,1)), #have to specify input shape in first layer <- shape of X\n",
    "    Conv2D(filters=20, kernel_size=(3,3), strides=(2,2), activation='relu'),\n",
    "    MaxPooling2D(pool_size=(3,3), strides=(2,2)),\n",
    "    Flatten(),\n",
    "    Dense(10, activation='softmax')])"
   ]
  },
  {
   "cell_type": "code",
   "execution_count": 6,
   "metadata": {},
   "outputs": [
    {
     "name": "stdout",
     "output_type": "stream",
     "text": [
      "Model: \"sequential\"\n",
      "_________________________________________________________________\n",
      "Layer (type)                 Output Shape              Param #   \n",
      "=================================================================\n",
      "conv2d (Conv2D)              (None, 13, 13, 40)        400       \n",
      "_________________________________________________________________\n",
      "conv2d_1 (Conv2D)            (None, 6, 6, 20)          7220      \n",
      "_________________________________________________________________\n",
      "max_pooling2d (MaxPooling2D) (None, 2, 2, 20)          0         \n",
      "_________________________________________________________________\n",
      "flatten (Flatten)            (None, 80)                0         \n",
      "_________________________________________________________________\n",
      "dense (Dense)                (None, 10)                810       \n",
      "=================================================================\n",
      "Total params: 8,430\n",
      "Trainable params: 8,430\n",
      "Non-trainable params: 0\n",
      "_________________________________________________________________\n"
     ]
    }
   ],
   "source": [
    "model.summary()"
   ]
  },
  {
   "cell_type": "code",
   "execution_count": 7,
   "metadata": {},
   "outputs": [],
   "source": [
    "model.compile(optimizer='rmsprop', loss='categorical_crossentropy', metrics=['accuracy'])"
   ]
  },
  {
   "cell_type": "code",
   "execution_count": 8,
   "metadata": {},
   "outputs": [
    {
     "name": "stdout",
     "output_type": "stream",
     "text": [
      "Epoch 1/30\n",
      "960/960 [==============================] - 3s 4ms/step - loss: 1.3753 - accuracy: 0.7530 - val_loss: 0.3175 - val_accuracy: 0.9061\n",
      "Epoch 2/30\n",
      "960/960 [==============================] - 3s 3ms/step - loss: 0.2666 - accuracy: 0.9199 - val_loss: 0.2252 - val_accuracy: 0.9344\n",
      "Epoch 3/30\n",
      "960/960 [==============================] - 3s 3ms/step - loss: 0.1990 - accuracy: 0.9399 - val_loss: 0.2071 - val_accuracy: 0.9386\n",
      "Epoch 4/30\n",
      "960/960 [==============================] - 3s 3ms/step - loss: 0.1676 - accuracy: 0.9488 - val_loss: 0.2179 - val_accuracy: 0.9334\n",
      "Epoch 5/30\n",
      "960/960 [==============================] - 3s 3ms/step - loss: 0.1456 - accuracy: 0.9554 - val_loss: 0.1470 - val_accuracy: 0.9576\n",
      "Epoch 6/30\n",
      "960/960 [==============================] - 3s 3ms/step - loss: 0.1328 - accuracy: 0.9591 - val_loss: 0.1416 - val_accuracy: 0.9597\n",
      "Epoch 7/30\n",
      "960/960 [==============================] - 3s 3ms/step - loss: 0.1221 - accuracy: 0.9623 - val_loss: 0.1453 - val_accuracy: 0.9616\n",
      "Epoch 8/30\n",
      "960/960 [==============================] - 3s 3ms/step - loss: 0.1161 - accuracy: 0.9648 - val_loss: 0.1320 - val_accuracy: 0.9671\n",
      "Epoch 9/30\n",
      "960/960 [==============================] - 3s 3ms/step - loss: 0.1082 - accuracy: 0.9672 - val_loss: 0.1557 - val_accuracy: 0.9630\n",
      "Epoch 10/30\n",
      "960/960 [==============================] - 3s 3ms/step - loss: 0.1056 - accuracy: 0.9682 - val_loss: 0.1814 - val_accuracy: 0.9563\n",
      "Epoch 11/30\n",
      "960/960 [==============================] - 3s 3ms/step - loss: 0.1011 - accuracy: 0.9697 - val_loss: 0.1407 - val_accuracy: 0.9654\n"
     ]
    }
   ],
   "source": [
    "callback = EarlyStopping(monitor='val_loss', patience=3)\n",
    "history = model.fit(X_train_reshaped,y_train_cats, epochs=30, batch_size=50, callbacks=[callback], validation_split=0.2)"
   ]
  },
  {
   "cell_type": "code",
   "execution_count": 9,
   "metadata": {},
   "outputs": [
    {
     "name": "stdout",
     "output_type": "stream",
     "text": [
      "313/313 [==============================] - 0s 1ms/step - loss: 0.1258 - accuracy: 0.9655\n"
     ]
    },
    {
     "data": {
      "text/plain": [
       "[0.12582261860370636, 0.965499997138977]"
      ]
     },
     "execution_count": 9,
     "metadata": {},
     "output_type": "execute_result"
    }
   ],
   "source": [
    "model.evaluate(X_test_reshaped, y_test_cats)"
   ]
  },
  {
   "cell_type": "markdown",
   "metadata": {},
   "source": [
    "#### Lets look at what we created"
   ]
  },
  {
   "cell_type": "code",
   "execution_count": 10,
   "metadata": {},
   "outputs": [
    {
     "data": {
      "text/plain": [
       "[<matplotlib.lines.Line2D at 0x7f902d1cb400>]"
      ]
     },
     "execution_count": 10,
     "metadata": {},
     "output_type": "execute_result"
    },
    {
     "data": {
      "image/png": "[encoded data removed]",
      "text/plain": [
       "<Figure size 432x288 with 1 Axes>"
      ]
     },
     "metadata": {
      "needs_background": "light"
     },
     "output_type": "display_data"
    }
   ],
   "source": [
    "plt.plot(history.history['loss'])\n",
    "plt.plot(history.history['val_loss'])"
   ]
  },
  {
   "cell_type": "code",
   "execution_count": 11,
   "metadata": {},
   "outputs": [
    {
     "data": {
      "text/plain": [
       "<matplotlib.legend.Legend at 0x7f901b5d59b0>"
      ]
     },
     "execution_count": 11,
     "metadata": {},
     "output_type": "execute_result"
    },
    {
     "data": {
      "image/png": "[encoded data removed]",
      "text/plain": [
       "<Figure size 432x288 with 1 Axes>"
      ]
     },
     "metadata": {
      "needs_background": "light"
     },
     "output_type": "display_data"
    }
   ],
   "source": [
    "plt.plot(history.history['accuracy'])\n",
    "plt.plot(history.history['val_accuracy'])\n",
    "plt.legend(['training accuracy', 'validation accuracy'])"
   ]
  },
  {
   "cell_type": "code",
   "execution_count": 12,
   "metadata": {},
   "outputs": [
    {
     "name": "stdout",
     "output_type": "stream",
     "text": [
      "[[6.56529562e-12 1.33487132e-09 3.42333283e-06 1.71011152e-07\n",
      "  2.56328867e-13 8.32413739e-12 1.52533337e-22 9.99994397e-01\n",
      "  5.22071808e-09 1.97078384e-06]\n",
      " [9.65826985e-06 7.90130485e-08 9.99515772e-01 4.69118255e-08\n",
      "  7.20827731e-10 4.67527544e-11 1.01255253e-07 1.99067940e-09\n",
      "  4.73703461e-04 6.56850034e-07]\n",
      " [7.43219957e-08 9.99962687e-01 6.14627425e-08 1.62160696e-09\n",
      "  8.92002959e-07 2.75180267e-10 1.18654748e-08 3.61099192e-05\n",
      "  5.24532506e-09 1.55970724e-07]\n",
      " [9.99998093e-01 9.56999150e-12 6.24954255e-11 2.37083086e-09\n",
      "  3.84883618e-11 6.05165473e-10 8.88843772e-08 1.72496016e-06\n",
      "  1.32555471e-07 1.10230269e-10]\n",
      " [1.69616626e-10 3.94430844e-09 4.73547694e-11 3.58060478e-15\n",
      "  1.00000000e+00 4.70028747e-13 2.35219364e-08 2.62693839e-10\n",
      "  1.82032722e-11 6.63334720e-10]\n",
      " [5.63524283e-10 9.98088181e-01 5.87530984e-08 1.41472600e-09\n",
      "  1.50369135e-06 7.76744294e-12 4.96545915e-08 1.91007357e-03\n",
      "  4.54430404e-09 4.51154065e-08]\n",
      " [2.23117220e-13 1.09037304e-13 6.05119600e-12 3.65463215e-11\n",
      "  9.99608696e-01 4.54672827e-11 4.00388021e-11 2.83234791e-09\n",
      "  8.21257527e-06 3.83059436e-04]\n",
      " [4.34512870e-09 2.41762027e-04 1.12245034e-05 6.45912005e-05\n",
      "  7.86966443e-01 5.43783826e-05 9.08566137e-13 9.62329581e-02\n",
      "  5.15693046e-06 1.16423450e-01]\n",
      " [1.23871416e-07 1.65797898e-17 1.29352674e-11 2.70412165e-13\n",
      "  1.62142442e-08 9.99874473e-01 4.38819576e-08 8.47205084e-11\n",
      "  4.06994059e-06 1.21229423e-04]\n",
      " [1.13163139e-07 1.27951913e-12 9.84769372e-07 3.25231397e-08\n",
      "  1.94649656e-05 2.09439094e-07 1.31239672e-10 6.33821287e-07\n",
      "  3.42784071e-04 9.99635696e-01]]\n"
     ]
    }
   ],
   "source": [
    "# prediction on new data points\n",
    "print(model.predict(X_test_reshaped[:10]))"
   ]
  },
  {
   "cell_type": "code",
   "execution_count": null,
   "metadata": {},
   "outputs": [],
   "source": []
  }
 ],
 "metadata": {
  "kernelspec": {
   "display_name": "Python 3",
   "language": "python",
   "name": "python3"
  },
  "language_info": {
   "codemirror_mode": {
    "name": "ipython",
    "version": 3
   },
   "file_extension": ".py",
   "mimetype": "text/x-python",
   "name": "python",
   "nbconvert_exporter": "python",
   "pygments_lexer": "ipython3",
   "version": "3.6.10"
  }
 },
 "nbformat": 4,
 "nbformat_minor": 4
}
