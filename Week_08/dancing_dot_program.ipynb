{
 "cells": [
  {
   "cell_type": "code",
   "execution_count": 4,
   "metadata": {},
   "outputs": [],
   "source": [
    "import numpy as np\n",
    "import cv2\n",
    "import random\n",
    "import math"
   ]
  },
  {
   "cell_type": "code",
   "execution_count": 3,
   "metadata": {},
   "outputs": [],
   "source": [
    "SCREENX, SCREENY = 1000, 800"
   ]
  },
  {
   "cell_type": "code",
   "execution_count": 5,
   "metadata": {},
   "outputs": [
    {
     "ename": "SyntaxError",
     "evalue": "invalid character in identifier (<ipython-input-5-ed8813a29e0d>, line 2)",
     "output_type": "error",
     "traceback": [
      "\u001b[0;36m  File \u001b[0;32m\"<ipython-input-5-ed8813a29e0d>\"\u001b[0;36m, line \u001b[0;32m2\u001b[0m\n\u001b[0;31m    ​\u001b[0m\n\u001b[0m    ^\u001b[0m\n\u001b[0;31mSyntaxError\u001b[0m\u001b[0;31m:\u001b[0m invalid character in identifier\n"
     ]
    }
   ],
   "source": [
    "class DancingDot:\n",
    "​\n",
    "    def __init__(self, x, y, size=20, color=(255,255,255), w=0):\n",
    "        self.xbase = x\n",
    "        self.ybase = y\n",
    "        self.size = size\n",
    "        self.color = color\n",
    "        self.w = w  # loops from 0..255\n",
    "​\n",
    "    def step(self):\n",
    "        self.w += 1\n",
    "        if self.w > 255:\n",
    "            self.w = 0\n",
    "​\n",
    "    def get_position(self):\n",
    "        x = self.xbase + int(200 * math.sin(math.pi * self.w / 128.0))\n",
    "        y = self.ybase\n",
    "        return x, y\n",
    "​\n",
    "    def get_boundaries(self, x, y):\n",
    "        \"\"\"calculate screen boundaries\"\"\"\n",
    "        x = max(0, x)\n",
    "        y = max(0, y)\n",
    "        xmax = min(x + self.size, SCREENX)\n",
    "        ymax = min(y + self.size, SCREENY)\n",
    "        return x, y, xmax, ymax\n",
    "​\n",
    "    def draw(self, frame):\n",
    "        x, y = self.get_position()\n",
    "        x, y, xmax, ymax = self.get_boundaries(x, y)\n",
    "        frame[y:ymax, x:xmax] = self.color\n",
    "​\n",
    "​\n",
    "dot = DancingDot(500, 400)\n",
    "​\n",
    "while True:\n",
    "    frame = np.zeros((SCREENY, SCREENX, 3), np.uint8)\n",
    "​\n",
    "    dot.step()\n",
    "    dot.draw(frame)\n",
    "​\n",
    "    cv2.imshow('frame', frame)\n",
    "​\n",
    "    if cv2.waitKey(1) & 0xFF == ord('q'):\n",
    "        break\n",
    "​\n",
    "cv2.destroyAllWindows()"
   ]
  },
  {
   "cell_type": "code",
   "execution_count": null,
   "metadata": {},
   "outputs": [],
   "source": []
  }
 ],
 "metadata": {
  "kernelspec": {
   "display_name": "Python 3",
   "language": "python",
   "name": "python3"
  },
  "language_info": {
   "codemirror_mode": {
    "name": "ipython",
    "version": 3
   },
   "file_extension": ".py",
   "mimetype": "text/x-python",
   "name": "python",
   "nbconvert_exporter": "python",
   "pygments_lexer": "ipython3",
   "version": "3.7.6"
  }
 },
 "nbformat": 4,
 "nbformat_minor": 4
}
